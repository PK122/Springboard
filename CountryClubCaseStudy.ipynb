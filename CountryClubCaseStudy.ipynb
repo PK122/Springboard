{
 "cells": [
  {
   "cell_type": "markdown",
   "id": "0158cd75",
   "metadata": {},
   "source": [
    "PART 2: SQLite\n",
    "\n",
    "Export the country club data from PHPMyAdmin, and connect to a local SQLite instance from Jupyter notebook \n",
    "for the following questions.  "
   ]
  },
  {
   "cell_type": "code",
   "execution_count": 1,
   "id": "35dfcc95",
   "metadata": {},
   "outputs": [],
   "source": [
    "import sqlite3\n",
    "import pandas as pd\n",
    "\n",
    "database = \"sqlite_db_pythonsqlite.db\"\n",
    "conn = sqlite3.connect(database)\n",
    "\n",
    "def task(query):\n",
    "    cur = conn.cursor()\n",
    "    cur.execute(query)\n",
    "    rows = cur.fetchall()\n",
    " \n",
    "    for row in rows:\n",
    "        print(row)\n"
   ]
  },
  {
   "cell_type": "markdown",
   "id": "6528c350",
   "metadata": {},
   "source": [
    "Q10: Produce a list of facilities with a total revenue less than 1000. The output of facility name and total revenue, sorted by revenue. Remember that there's a different cost for guests and members!"
   ]
  },
  {
   "cell_type": "code",
   "execution_count": 2,
   "id": "73e53c81",
   "metadata": {},
   "outputs": [
    {
     "name": "stdout",
     "output_type": "stream",
     "text": [
      "('Pool Table', 270)\n",
      "('Snooker Table', 240)\n",
      "('Table Tennis', 180)\n"
     ]
    }
   ],
   "source": [
    "task(\"\"\"\n",
    "    SELECT * \n",
    "    FROM (\n",
    "        SELECT subq.facility, SUM(subq.cost) AS totalRev\n",
    "        FROM (\n",
    "        SELECT Facilities.name AS facility, \n",
    "        CASE WHEN Bookings.memid =0\n",
    "        THEN Facilities.guestcost * Bookings.slots\n",
    "        ELSE Facilities.membercost * Bookings.slots\n",
    "        END AS cost\n",
    "        FROM Bookings\n",
    "        INNER JOIN Facilities ON Bookings.facid = Facilities.facid\n",
    "        INNER JOIN Members ON Bookings.memid = Members.memid\n",
    "        )\n",
    "       AS subq\n",
    "GROUP BY subq.facility\n",
    ")\n",
    "AS subq2\n",
    "WHERE subq2.totalRev <1000\n",
    "     \"\"\")"
   ]
  },
  {
   "cell_type": "markdown",
   "id": "52eaccd1",
   "metadata": {},
   "source": [
    "Q11: Produce a report of members and who recommended them in alphabetic surname,firstname order"
   ]
  },
  {
   "cell_type": "code",
   "execution_count": 3,
   "id": "f6c30a97",
   "metadata": {},
   "outputs": [
    {
     "name": "stdout",
     "output_type": "stream",
     "text": [
      "('Bader', 'Florence', 'Stibbons', 'Ponder')\n",
      "('Baker', 'Timothy', 'Farrell', 'Jemima')\n",
      "('Baker', 'Anne', 'Stibbons', 'Ponder')\n",
      "('Boothe', 'Tim', 'Rownam', 'Tim')\n",
      "('Butters', 'Gerald', 'Smith', 'Darren')\n",
      "('Coplin', 'Joan', 'Baker', 'Timothy')\n",
      "('Crumpet', 'Erica', 'Smith', 'Tracy')\n",
      "('Dare', 'Nancy', 'Joplette', 'Janice')\n",
      "('Genting', 'Matthew', 'Butters', 'Gerald')\n",
      "('Hunt', 'John', 'Purview', 'Millicent')\n",
      "('Jones', 'Douglas', 'Jones', 'David')\n",
      "('Jones', 'David', 'Joplette', 'Janice')\n",
      "('Joplette', 'Janice', 'Smith', 'Darren')\n",
      "('Mackenzie', 'Anna', 'Smith', 'Darren')\n",
      "('Owen', 'Charles', 'Smith', 'Darren')\n",
      "('Pinker', 'David', 'Farrell', 'Jemima')\n",
      "('Purview', 'Millicent', 'Smith', 'Tracy')\n",
      "('Rumney', 'Henrietta', 'Genting', 'Matthew')\n",
      "('Sarwin', 'Ramnaresh', 'Bader', 'Florence')\n",
      "('Smith', 'Jack', 'Smith', 'Darren')\n",
      "('Stibbons', 'Ponder', 'Tracy', 'Burton')\n",
      "('Worthington-Smyth', 'Henry', 'Smith', 'Tracy')\n"
     ]
    }
   ],
   "source": [
    "task(\"\"\"\n",
    "    SELECT A.surname, A.firstname, B.surname, B.firstname\n",
    "    FROM Members A, Members B\n",
    "    WHERE A.recommendedby = B.memid\n",
    "    ORDER BY A.surname, B.surname\n",
    "\n",
    "     \"\"\")"
   ]
  },
  {
   "cell_type": "markdown",
   "id": "8ecfc06e",
   "metadata": {},
   "source": [
    "Q12: Find the facilities with their usage by member, but not guests"
   ]
  },
  {
   "cell_type": "code",
   "execution_count": 4,
   "id": "2f1e9051",
   "metadata": {},
   "outputs": [
    {
     "name": "stdout",
     "output_type": "stream",
     "text": [
      "('Badminton Court', 1086)\n",
      "('Massage Room 1', 884)\n",
      "('Massage Room 2', 54)\n",
      "('Pool Table', 856)\n",
      "('Snooker Table', 860)\n",
      "('Squash Court', 418)\n",
      "('Table Tennis', 794)\n",
      "('Tennis Court 1', 957)\n",
      "('Tennis Court 2', 882)\n"
     ]
    }
   ],
   "source": [
    "task(\"\"\"\n",
    "    SELECT Facilities.Name, SUM(Bookings.slots) AS 'Usage'\n",
    "    FROM Facilities \n",
    "    INNER JOIN Bookings ON Bookings.facid = Facilities.facid\n",
    "    WHERE Bookings.memid > 0 \n",
    "    GROUP BY Facilities.Name\n",
    "     \"\"\")"
   ]
  },
  {
   "cell_type": "markdown",
   "id": "b41e46ab",
   "metadata": {},
   "source": [
    "Q13: Find the facilities usage by month, but not guests"
   ]
  },
  {
   "cell_type": "code",
   "execution_count": 5,
   "id": "51bb9245",
   "metadata": {},
   "outputs": [
    {
     "ename": "OperationalError",
     "evalue": "no such function: MONTH",
     "output_type": "error",
     "traceback": [
      "\u001b[1;31m---------------------------------------------------------------------------\u001b[0m",
      "\u001b[1;31mOperationalError\u001b[0m                          Traceback (most recent call last)",
      "\u001b[1;32m<ipython-input-5-1ee9b41cb4cd>\u001b[0m in \u001b[0;36m<module>\u001b[1;34m\u001b[0m\n\u001b[1;32m----> 1\u001b[1;33m task(\"\"\"\n\u001b[0m\u001b[0;32m      2\u001b[0m     \u001b[0mSELECT\u001b[0m \u001b[0mFacilities\u001b[0m\u001b[1;33m.\u001b[0m\u001b[0mName\u001b[0m\u001b[1;33m,\u001b[0m \u001b[0mSUM\u001b[0m\u001b[1;33m(\u001b[0m\u001b[0mBookings\u001b[0m\u001b[1;33m.\u001b[0m\u001b[0mslots\u001b[0m\u001b[1;33m)\u001b[0m \u001b[0mAS\u001b[0m \u001b[1;34m'Usage'\u001b[0m\u001b[1;33m,\u001b[0m \u001b[0mMONTH\u001b[0m\u001b[1;33m(\u001b[0m\u001b[0mBookings\u001b[0m\u001b[1;33m.\u001b[0m\u001b[0mstarttime\u001b[0m\u001b[1;33m)\u001b[0m \u001b[0mAS\u001b[0m \u001b[0mMonth\u001b[0m\u001b[1;33m\u001b[0m\u001b[1;33m\u001b[0m\u001b[0m\n\u001b[0;32m      3\u001b[0m     \u001b[0mFROM\u001b[0m \u001b[0mFacilities\u001b[0m\u001b[1;33m\u001b[0m\u001b[1;33m\u001b[0m\u001b[0m\n\u001b[0;32m      4\u001b[0m     \u001b[0mINNER\u001b[0m \u001b[0mJOIN\u001b[0m \u001b[0mBookings\u001b[0m \u001b[0mON\u001b[0m \u001b[0mBookings\u001b[0m\u001b[1;33m.\u001b[0m\u001b[0mfacid\u001b[0m \u001b[1;33m=\u001b[0m \u001b[0mFacilities\u001b[0m\u001b[1;33m.\u001b[0m\u001b[0mfacid\u001b[0m\u001b[1;33m\u001b[0m\u001b[1;33m\u001b[0m\u001b[0m\n\u001b[0;32m      5\u001b[0m     \u001b[0mWHERE\u001b[0m \u001b[0mBookings\u001b[0m\u001b[1;33m.\u001b[0m\u001b[0mmemid\u001b[0m \u001b[1;33m>\u001b[0m \u001b[1;36m0\u001b[0m\u001b[1;33m\u001b[0m\u001b[1;33m\u001b[0m\u001b[0m\n",
      "\u001b[1;32m<ipython-input-1-9844e7c2cf59>\u001b[0m in \u001b[0;36mtask\u001b[1;34m(query)\u001b[0m\n\u001b[0;32m      7\u001b[0m \u001b[1;32mdef\u001b[0m \u001b[0mtask\u001b[0m\u001b[1;33m(\u001b[0m\u001b[0mquery\u001b[0m\u001b[1;33m)\u001b[0m\u001b[1;33m:\u001b[0m\u001b[1;33m\u001b[0m\u001b[1;33m\u001b[0m\u001b[0m\n\u001b[0;32m      8\u001b[0m     \u001b[0mcur\u001b[0m \u001b[1;33m=\u001b[0m \u001b[0mconn\u001b[0m\u001b[1;33m.\u001b[0m\u001b[0mcursor\u001b[0m\u001b[1;33m(\u001b[0m\u001b[1;33m)\u001b[0m\u001b[1;33m\u001b[0m\u001b[1;33m\u001b[0m\u001b[0m\n\u001b[1;32m----> 9\u001b[1;33m     \u001b[0mcur\u001b[0m\u001b[1;33m.\u001b[0m\u001b[0mexecute\u001b[0m\u001b[1;33m(\u001b[0m\u001b[0mquery\u001b[0m\u001b[1;33m)\u001b[0m\u001b[1;33m\u001b[0m\u001b[1;33m\u001b[0m\u001b[0m\n\u001b[0m\u001b[0;32m     10\u001b[0m     \u001b[0mrows\u001b[0m \u001b[1;33m=\u001b[0m \u001b[0mcur\u001b[0m\u001b[1;33m.\u001b[0m\u001b[0mfetchall\u001b[0m\u001b[1;33m(\u001b[0m\u001b[1;33m)\u001b[0m\u001b[1;33m\u001b[0m\u001b[1;33m\u001b[0m\u001b[0m\n\u001b[0;32m     11\u001b[0m \u001b[1;33m\u001b[0m\u001b[0m\n",
      "\u001b[1;31mOperationalError\u001b[0m: no such function: MONTH"
     ]
    }
   ],
   "source": [
    "task(\"\"\"\n",
    "    SELECT Facilities.Name, SUM(Bookings.slots) AS 'Usage', MONTH(Bookings.starttime) AS Month\n",
    "    FROM Facilities \n",
    "    INNER JOIN Bookings ON Bookings.facid = Facilities.facid\n",
    "    WHERE Bookings.memid > 0 \n",
    "    GROUP BY Month, Facilities.Name\n",
    "     \"\"\")\n",
    "# When I run this on the server it works but I am not sure why it is not recognizing 'MONTH' function here"
   ]
  },
  {
   "cell_type": "code",
   "execution_count": null,
   "id": "2c3f3c62",
   "metadata": {},
   "outputs": [],
   "source": [
    "# Close connection\n",
    "conn.close()"
   ]
  }
 ],
 "metadata": {
  "kernelspec": {
   "display_name": "Python 3",
   "language": "python",
   "name": "python3"
  },
  "language_info": {
   "codemirror_mode": {
    "name": "ipython",
    "version": 3
   },
   "file_extension": ".py",
   "mimetype": "text/x-python",
   "name": "python",
   "nbconvert_exporter": "python",
   "pygments_lexer": "ipython3",
   "version": "3.8.8"
  }
 },
 "nbformat": 4,
 "nbformat_minor": 5
}
